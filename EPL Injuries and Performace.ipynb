{
 "cells": [
  {
   "cell_type": "markdown",
   "id": "1dc52bf9",
   "metadata": {},
   "source": [
    "EPL Player Injuries and Performace"
   ]
  },
  {
   "cell_type": "code",
   "execution_count": null,
   "id": "51745000",
   "metadata": {},
   "outputs": [],
   "source": [
    "print(\"This project will show the how the performace of a EPL team is influenced by injuries\")"
   ]
  }
 ],
 "metadata": {
  "language_info": {
   "name": "python"
  }
 },
 "nbformat": 4,
 "nbformat_minor": 5
}
